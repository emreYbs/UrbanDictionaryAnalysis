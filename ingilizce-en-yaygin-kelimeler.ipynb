{
 "cells": [
  {
   "cell_type": "code",
   "execution_count": 1,
   "metadata": {
    "_cell_guid": "79c7e3d0-c299-4dcb-8224-4455121ee9b0",
    "_uuid": "d629ff2d2480ee46fbb7e2d37f6b5fab8052498a",
    "collapsed": true
   },
   "outputs": [],
   "source": [
    "import numpy as np\n",
    "import pandas as pd\n",
    "import matplotlib.pyplot as plt\n",
    "%matplotlib inline\n",
    "import seaborn as sns"
   ]
  },
  {
   "cell_type": "code",
   "execution_count": 2,
   "metadata": {
    "_uuid": "f8883f45cd77fbf6776a210e92671c68a474ce47",
    "collapsed": true
   },
   "outputs": [
    {
     "data": {
      "text/html": [
       "<div>\n",
       "<style scoped>\n",
       "    .dataframe tbody tr th:only-of-type {\n",
       "        vertical-align: middle;\n",
       "    }\n",
       "\n",
       "    .dataframe tbody tr th {\n",
       "        vertical-align: top;\n",
       "    }\n",
       "\n",
       "    .dataframe thead th {\n",
       "        text-align: right;\n",
       "    }\n",
       "</style>\n",
       "<table border=\"1\" class=\"dataframe\">\n",
       "  <thead>\n",
       "    <tr style=\"text-align: right;\">\n",
       "      <th></th>\n",
       "      <th>word</th>\n",
       "      <th>count</th>\n",
       "    </tr>\n",
       "  </thead>\n",
       "  <tbody>\n",
       "    <tr>\n",
       "      <th>0</th>\n",
       "      <td>the</td>\n",
       "      <td>23135851162</td>\n",
       "    </tr>\n",
       "    <tr>\n",
       "      <th>1</th>\n",
       "      <td>of</td>\n",
       "      <td>13151942776</td>\n",
       "    </tr>\n",
       "    <tr>\n",
       "      <th>2</th>\n",
       "      <td>and</td>\n",
       "      <td>12997637966</td>\n",
       "    </tr>\n",
       "    <tr>\n",
       "      <th>3</th>\n",
       "      <td>to</td>\n",
       "      <td>12136980858</td>\n",
       "    </tr>\n",
       "    <tr>\n",
       "      <th>4</th>\n",
       "      <td>a</td>\n",
       "      <td>9081174698</td>\n",
       "    </tr>\n",
       "    <tr>\n",
       "      <th>5</th>\n",
       "      <td>in</td>\n",
       "      <td>8469404971</td>\n",
       "    </tr>\n",
       "    <tr>\n",
       "      <th>6</th>\n",
       "      <td>for</td>\n",
       "      <td>5933321709</td>\n",
       "    </tr>\n",
       "    <tr>\n",
       "      <th>7</th>\n",
       "      <td>is</td>\n",
       "      <td>4705743816</td>\n",
       "    </tr>\n",
       "    <tr>\n",
       "      <th>8</th>\n",
       "      <td>on</td>\n",
       "      <td>3750423199</td>\n",
       "    </tr>\n",
       "    <tr>\n",
       "      <th>9</th>\n",
       "      <td>that</td>\n",
       "      <td>3400031103</td>\n",
       "    </tr>\n",
       "  </tbody>\n",
       "</table>\n",
       "</div>"
      ],
      "text/plain": [
       "   word        count\n",
       "0   the  23135851162\n",
       "1    of  13151942776\n",
       "2   and  12997637966\n",
       "3    to  12136980858\n",
       "4     a   9081174698\n",
       "5    in   8469404971\n",
       "6   for   5933321709\n",
       "7    is   4705743816\n",
       "8    on   3750423199\n",
       "9  that   3400031103"
      ]
     },
     "execution_count": 2,
     "metadata": {},
     "output_type": "execute_result"
    }
   ],
   "source": [
    "df = pd.read_csv(\"../input/unigram_freq.csv\")\n",
    "df.head(10)"
   ]
  },
  {
   "cell_type": "markdown",
   "metadata": {
    "_uuid": "24f1d17189bdaad7659667cbe3a63ae5980f8cd7"
   },
   "source": [
    "                                            **İngilizce'de En Çok Kullanılan ilk 10 Kelime**\n",
    "\n",
    "           *Veriler kelimelerin çok kullanılma sıklıklarına göre düzenlendiği için, ilk 10 kelimeyi grafikte görelim. *****\n",
    "\n",
    "**Top 10 Most Used Words**\n",
    "\n",
    "As the data has been sorted by the word count, let's plot the first 10 data"
   ]
  },
  {
   "cell_type": "code",
   "execution_count": 3,
   "metadata": {
    "_uuid": "84e41ec35c91b1c0812c10ab9cfc44eb9d775db9",
    "collapsed": true
   },
   "outputs": [
    {
     "data": {
      "text/plain": [
       "Text(0.5,1,'Top 10 Words')"
      ]
     },
     "execution_count": 3,
     "metadata": {},
     "output_type": "execute_result"
    },
    {
     "data": {
      "image/png": "[encoded data removed]",
      "text/plain": [
       "<matplotlib.figure.Figure at 0x7fccf55c7940>"
      ]
     },
     "metadata": {},
     "output_type": "display_data"
    }
   ],
   "source": [
    "top10 = df.iloc[0:10]\n",
    "plt.figure(figsize=(10,6))\n",
    "sns.barplot(\"word\", \"count\", data=top10, palette=\"Blues_d\").set_title(\"Top 10 Words\")"
   ]
  },
  {
   "cell_type": "markdown",
   "metadata": {
    "_uuid": "9426117825371a66cf254d6e7d1cfb511ed57319"
   },
   "source": [
    "**Top 10 Least Used Words**"
   ]
  },
  {
   "cell_type": "code",
   "execution_count": 4,
   "metadata": {
    "_uuid": "1711d405dcba36f36637031310e80335f8d6efc1",
    "collapsed": true
   },
   "outputs": [
    {
     "data": {
      "text/html": [
       "<div>\n",
       "<style scoped>\n",
       "    .dataframe tbody tr th:only-of-type {\n",
       "        vertical-align: middle;\n",
       "    }\n",
       "\n",
       "    .dataframe tbody tr th {\n",
       "        vertical-align: top;\n",
       "    }\n",
       "\n",
       "    .dataframe thead th {\n",
       "        text-align: right;\n",
       "    }\n",
       "</style>\n",
       "<table border=\"1\" class=\"dataframe\">\n",
       "  <thead>\n",
       "    <tr style=\"text-align: right;\">\n",
       "      <th></th>\n",
       "      <th>word</th>\n",
       "      <th>count</th>\n",
       "    </tr>\n",
       "  </thead>\n",
       "  <tbody>\n",
       "    <tr>\n",
       "      <th>333332</th>\n",
       "      <td>golgw</td>\n",
       "      <td>12711</td>\n",
       "    </tr>\n",
       "    <tr>\n",
       "      <th>333234</th>\n",
       "      <td>okgol</td>\n",
       "      <td>12711</td>\n",
       "    </tr>\n",
       "    <tr>\n",
       "      <th>333233</th>\n",
       "      <td>omai</td>\n",
       "      <td>12711</td>\n",
       "    </tr>\n",
       "    <tr>\n",
       "      <th>333232</th>\n",
       "      <td>ooahl</td>\n",
       "      <td>12711</td>\n",
       "    </tr>\n",
       "    <tr>\n",
       "      <th>333231</th>\n",
       "      <td>ooayl</td>\n",
       "      <td>12711</td>\n",
       "    </tr>\n",
       "    <tr>\n",
       "      <th>333230</th>\n",
       "      <td>oobol</td>\n",
       "      <td>12711</td>\n",
       "    </tr>\n",
       "    <tr>\n",
       "      <th>333229</th>\n",
       "      <td>oofel</td>\n",
       "      <td>12711</td>\n",
       "    </tr>\n",
       "    <tr>\n",
       "      <th>333228</th>\n",
       "      <td>oofol</td>\n",
       "      <td>12711</td>\n",
       "    </tr>\n",
       "    <tr>\n",
       "      <th>333227</th>\n",
       "      <td>ooggok</td>\n",
       "      <td>12711</td>\n",
       "    </tr>\n",
       "    <tr>\n",
       "      <th>333226</th>\n",
       "      <td>oogko</td>\n",
       "      <td>12711</td>\n",
       "    </tr>\n",
       "  </tbody>\n",
       "</table>\n",
       "</div>"
      ],
      "text/plain": [
       "          word  count\n",
       "333332   golgw  12711\n",
       "333234   okgol  12711\n",
       "333233    omai  12711\n",
       "333232   ooahl  12711\n",
       "333231   ooayl  12711\n",
       "333230   oobol  12711\n",
       "333229   oofel  12711\n",
       "333228   oofol  12711\n",
       "333227  ooggok  12711\n",
       "333226   oogko  12711"
      ]
     },
     "execution_count": 4,
     "metadata": {},
     "output_type": "execute_result"
    }
   ],
   "source": [
    "df.sort_values(by=\"count\").iloc[0:10]"
   ]
  },
  {
   "cell_type": "markdown",
   "metadata": {
    "_uuid": "04c1531fb67208d0a10dc3951fd6e9854ba3fd7d"
   },
   "source": [
    "Wait, what? Are those even english? And they are apparently have the same count"
   ]
  },
  {
   "cell_type": "markdown",
   "metadata": {
    "_uuid": "bc3fd77b5ad26122d63ec6eeb8aa6961ea1ee6f4"
   },
   "source": [
    "**En Uzun Kelimeler \n",
    "> > * Buyrun İnceleyelim**\n",
    "( Ancak hepsi de birkaç kelimenin yanyana gelmesi ile oluşmuş zorlama kelimeler biraz da.) (Yorum benimdir,veriyi inclediğimde tuhaf geldiği için belirttim.Zira uzun ama anlamsız ve bazısı da muzip içeriğe sahip:)\n",
    "\n",
    "**Top 10 Longest Words**\n",
    "\n",
    "Let's see what are the 10 longest words"
   ]
  },
  {
   "cell_type": "code",
   "execution_count": 5,
   "metadata": {
    "_uuid": "df933a8d3b6257cfc65e8751b004dbae2e8cf2ce",
    "collapsed": true
   },
   "outputs": [
    {
     "data": {
      "text/plain": [
       "Text(0.5,1,'Top 10 Longest Words')"
      ]
     },
     "execution_count": 5,
     "metadata": {},
     "output_type": "execute_result"
    },
    {
     "data": {
      "image/png": "[encoded data removed]",
      "text/plain": [
       "<matplotlib.figure.Figure at 0x7fcd2c0cf0b8>"
      ]
     },
     "metadata": {},
     "output_type": "display_data"
    }
   ],
   "source": [
    "s = df.word.str.len().sort_values(ascending=False).index\n",
    "longest10 = df.reindex(s).iloc[0:10]\n",
    "plt.figure(figsize=(10,6))\n",
    "sns.barplot(\"count\", \"word\", data=longest10, orient=\"h\", palette=\"Blues_d\").set_title(\"Top 10 Longest Words\")"
   ]
  },
  {
   "cell_type": "markdown",
   "metadata": {
    "_uuid": "0508829d6bd44617840706aba57826703f39c249"
   },
   "source": [
    "Veriyi bulduğum kaynaktaki İngilizce yorumu da ekliyorum arkadaşlar. Kendisi de by kadar uzun ve garip kelimenin İngilizce'de olduğunu bilmiyormuş. Zaten dikkatli bakınca, anadili İngilizce olanlar için de saçma ve zorlama olduğu ortaya çıkıyor.Bazıları muzip isimlere sahip:   Orjinal Kaynaktaki Yorum: \"Well I didn't even know that those words exist and there are actually a quite number of people used them.\""
   ]
  },
  {
   "cell_type": "markdown",
   "metadata": {
    "_uuid": "b4175296a95149ba7468a8297159fbb5486af191"
   },
   "source": [
    "> Eğer alfabedeki harfleri birer kelime gibi düşünse idik, en sıkı kullanımın A harfi ile başlayanlarda ortaya çıktığını, bu veriye göre iddia edebilirdik.\n",
    "\n",
    "**Alphabets as Words**\n",
    "\n",
    "Next one, let's see the usage of each alphabet as an individual word"
   ]
  },
  {
   "cell_type": "code",
   "execution_count": 6,
   "metadata": {
    "_uuid": "07698cd26a425cea241f811b15e508e4e27f5e1a",
    "collapsed": true,
    "scrolled": true
   },
   "outputs": [
    {
     "data": {
      "text/plain": [
       "Text(0.5,1,'Alphabets')"
      ]
     },
     "execution_count": 6,
     "metadata": {},
     "output_type": "execute_result"
    },
    {
     "data": {
      "image/png": "[encoded data removed]",
      "text/plain": [
       "<matplotlib.figure.Figure at 0x7fccf82cd5c0>"
      ]
     },
     "metadata": {},
     "output_type": "display_data"
    }
   ],
   "source": [
    "alphabet = df.reindex(s).iloc[::-1][2:28].sort_values(by=\"count\", ascending=False)\n",
    "plt.figure(figsize=(10,6))\n",
    "sns.barplot(\"word\", \"count\", data=alphabet, palette=\"Blues_d\").set_title(\"Alphabets\")"
   ]
  }
 ],
 "metadata": {
  "kernelspec": {
   "display_name": "Python 3",
   "language": "python",
   "name": "python3"
  },
  "language_info": {
   "codemirror_mode": {
    "name": "ipython",
    "version": 3
   },
   "file_extension": ".py",
   "mimetype": "text/x-python",
   "name": "python",
   "nbconvert_exporter": "python",
   "pygments_lexer": "ipython3",
   "version": "3.6.4"
  }
 },
 "nbformat": 4,
 "nbformat_minor": 1
}
